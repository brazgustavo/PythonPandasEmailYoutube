{
 "cells": [
  {
   "cell_type": "code",
   "execution_count": 13,
   "id": "3f8fb449",
   "metadata": {},
   "outputs": [
    {
     "name": "stdout",
     "output_type": "stream",
     "text": [
      "        QNOTE       PN  QUANTIDADE ESTOQUE    LOCAL\n",
      "0   218012345  ZYX3456           5    G800  F01 C01\n",
      "1   218012346  ZYX3457           6    G140  F01 C02\n",
      "2   218012347  ZYX3458           7    G800  F01 C03\n",
      "3   218012348  ZYX3459           8    G140  F01 C04\n",
      "4   218012349  ZYX3460           9    G800  F01 C05\n",
      "5   218012350  ZYX3461          10    G140  F01 C06\n",
      "6   218012351  ZYX3462          11    G800  F01 C07\n",
      "7   218012352  ZYX3463          12    G140  F01 C08\n",
      "8   218012353  ZYX3464          13    G800  F01 C09\n",
      "9   218012354  ZYX3465          14    G140  F01 C10\n",
      "10  218012355  ZYX3466          15    G800  F01 C11\n",
      "11  218012356  ZYX3467          16    G140  F01 C12\n",
      "12  218012357  ZYX3468          17    G800  F01 C13\n",
      "13  218012358  ZYX3469          18    G140  F01 C14\n",
      "14  218012359  ZYX3470          19    G800  F01 C15\n",
      "15  218012360  ZYX3471          20    G140  F01 C16\n",
      "16  218012361  ZYX3472          21    G800  F01 C17\n",
      "17  218012362  ZYX3473          22    G140  F01 C18\n",
      "18  218012363  ZYX3474          23    G800  F01 C19\n",
      "   Nº do Material  Blocked Stock Storage Location\n",
      "0         ZYX3456              5             G800\n",
      "1         ZYX3457              6             G140\n",
      "2         ZYX3458            101             G800\n",
      "3         ZYX3459              8             G140\n",
      "4         ZYX3460              9             G800\n",
      "5         ZYX3461             25             G140\n",
      "6         ZYX3462             11             G800\n",
      "7         ZYX3463             12             G140\n",
      "8         ZYX3464             13             G800\n",
      "9         ZYX3465             14             G140\n",
      "10        ZYX3466             15             G800\n",
      "11        ZYX3467             48             G140\n",
      "12        ZYX3468             17             G800\n",
      "13        ZYX3469             18             G140\n",
      "14        ZYX3470             19             G800\n",
      "15        ZYX3471             20             G140\n",
      "16        ZYX3472             21             G800\n",
      "17        ZYX3473             22             G140\n",
      "18        ZYX3474             23             G800\n"
     ]
    }
   ],
   "source": [
    "import pandas as pd\n",
    "import numpy as np\n",
    "import win32com.client as win32\n",
    "\n",
    "\n",
    "# Carregar o arquivo Excel (inventário)\n",
    "inventario = pd.read_excel('D:\\Youtube\\Videos análise de dados\\Análise de estoque com envio de e-mail\\Inventário.xlsx')\n",
    "\n",
    "# Carregar o arquivo Excel (DADOS SAP)\n",
    "sap = pd.read_excel('D:\\Youtube\\Videos análise de dados\\Análise de estoque com envio de e-mail\\Tabela SAP.xlsx')\n",
    "\n",
    "\n",
    "# Exibir o conteúdo das planilhas\n",
    "print(inventario)\n",
    "\n",
    "print(sap)\n",
    "\n"
   ]
  },
  {
   "cell_type": "code",
   "execution_count": 14,
   "id": "59c1acae",
   "metadata": {},
   "outputs": [
    {
     "name": "stdout",
     "output_type": "stream",
     "text": [
      "E-mail enviado com sucesso!\n"
     ]
    }
   ],
   "source": [
    "# Fazer o merge usando as colunas 'PN' (Inventário) e 'Nº do Material' (SAP)\n",
    "merged = pd.merge(inventario, sap, left_on='PN', right_on='Nº do Material', how='outer')\n",
    "\n",
    "# Calcular a diferença de quantidades usando o maior valor menos o menor valor\n",
    "merged['Divergência'] = np.maximum(merged['QUANTIDADE'], merged['Blocked Stock']) - np.minimum(merged['QUANTIDADE'], merged['Blocked Stock'])\n",
    "\n",
    "# Filtrar as divergências diferentes de zero\n",
    "divergencias = merged[merged['Divergência'] != 0]\n",
    "\n",
    "# Configurar os detalhes do e-mail\n",
    "remetente = 'seu_email@outlook.com'\n",
    "destinatario = 'supervisor@example.com'\n",
    "assunto = 'Divergências Encontradas'\n",
    "\n",
    "# Construir a mensagem de e-mail\n",
    "mensagem = f'Divergências encontradas:\\n\\n'\n",
    "for _, linha in divergencias.iterrows():\n",
    "    pn = linha['PN']\n",
    "    quantidade_inventario = linha['QUANTIDADE']\n",
    "    quantidade_sap = linha['Blocked Stock']\n",
    "    divergencia = linha['Divergência']\n",
    "    mensagem += f'PN: {pn}\\nQuantidade no inventário: {quantidade_inventario}\\nQuantidade no SAP: {quantidade_sap}\\nDivergência: {divergencia} peças\\n\\n'\n",
    "\n",
    "# Criar uma instância da aplicação Outlook\n",
    "outlook = win32.Dispatch('Outlook.Application')\n",
    "\n",
    "# Criar um e-mail\n",
    "email = outlook.CreateItem(0)\n",
    "email.Subject = assunto\n",
    "email.Body = mensagem\n",
    "email.To = destinatario\n",
    "email.SentOnBehalfOfName = remetente\n",
    "\n",
    "# Enviar o e-mail\n",
    "try:\n",
    "    email.Send()\n",
    "    print('E-mail enviado com sucesso!')\n",
    "except Exception as e:\n",
    "    print(f'Erro ao enviar o e-mail: {str(e)}')"
   ]
  }
 ],
 "metadata": {
  "kernelspec": {
   "display_name": "Python 3 (ipykernel)",
   "language": "python",
   "name": "python3"
  },
  "language_info": {
   "codemirror_mode": {
    "name": "ipython",
    "version": 3
   },
   "file_extension": ".py",
   "mimetype": "text/x-python",
   "name": "python",
   "nbconvert_exporter": "python",
   "pygments_lexer": "ipython3",
   "version": "3.9.13"
  }
 },
 "nbformat": 4,
 "nbformat_minor": 5
}
